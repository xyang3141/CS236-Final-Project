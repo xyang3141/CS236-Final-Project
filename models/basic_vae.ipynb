{
 "cells": [
  {
   "cell_type": "code",
   "execution_count": 1,
   "metadata": {},
   "outputs": [],
   "source": [
    "from datetime import datetime\n",
    "import matplotlib.pyplot as plt\n",
    "import numpy as np\n",
    "import pandas as pd\n",
    "\n",
    "\n",
    "import tensorflow as tf\n",
    "tf.compat.v1.disable_eager_execution()\n",
    "from tensorflow.keras.models import Model, load_model\n",
    "from tensorflow.keras.layers import Lambda, Input, Dense\n",
    "from tensorflow.keras.losses import mse, binary_crossentropy, kl_divergence\n",
    "from tensorflow.keras import optimizers\n",
    "from tensorflow.keras import backend as K\n",
    "\n",
    "from sklearn.model_selection import train_test_split\n",
    "from sklearn.preprocessing import MinMaxScaler, StandardScaler, PowerTransformer\n",
    "\n",
    "import seaborn as sns\n",
    "import matplotlib.pyplot as plt\n",
    "\n",
    "%matplotlib inline"
   ]
  },
  {
   "cell_type": "code",
   "execution_count": 2,
   "metadata": {},
   "outputs": [
    {
     "data": {
      "text/plain": [
       "array([[6.42629706e-02, 2.84623291e-02, 3.72991143e-01, ...,\n",
       "        4.25701523e-02, 2.83310413e-02, 9.30774207e-02],\n",
       "       [9.03149068e-02, 4.74756684e-02, 3.63818909e-01, ...,\n",
       "        2.49521409e-02, 5.83178810e-02, 2.39513118e-01],\n",
       "       [1.70452771e-01, 4.54761349e-02, 4.53500736e-01, ...,\n",
       "        1.01528263e-01, 2.25885469e-01, 4.30588297e-01],\n",
       "       ...,\n",
       "       [2.77918351e-03, 7.51611360e-04, 6.89631339e-04, ...,\n",
       "        1.13167895e-04, 4.24303070e-04, 2.80433942e-04],\n",
       "       [2.98187555e-03, 6.52477147e-04, 5.92430793e-04, ...,\n",
       "        3.44986672e-05, 6.26837662e-04, 8.35118855e-04],\n",
       "       [9.44620228e-04, 2.54860886e-04, 3.86590796e-04, ...,\n",
       "        9.21525891e-05, 1.44679663e-05, 4.50336122e-04]])"
      ]
     },
     "execution_count": 2,
     "metadata": {},
     "output_type": "execute_result"
    }
   ],
   "source": [
    "import pandas as pd\n",
    "import numpy as np\n",
    "normal = pd.read_csv('normal.csv', sep=',', header = None)\n",
    "abnormal = pd.read_csv('abnormal.csv', sep=',', header = None)\n",
    "scaler = MinMaxScaler()\n",
    "df_scaled_abnormal = scaler.fit_transform(abnormal)\n",
    "df_scaled_abnormal"
   ]
  },
  {
   "cell_type": "code",
   "execution_count": 3,
   "metadata": {},
   "outputs": [],
   "source": [
    "df_scaled_normal = scaler.fit_transform(normal)"
   ]
  },
  {
   "cell_type": "code",
   "execution_count": 4,
   "metadata": {},
   "outputs": [],
   "source": [
    "# generate train set\n",
    "# training set will consist of the normal ds\n",
    "df_scaled_normal = df_scaled_normal.T\n",
    "df_scaled_abnormal = df_scaled_abnormal.T\n",
    "len_norm = len(df_scaled_normal)\n",
    "len_norm_train = int(0.8 * len_norm)\n",
    "X_train = df_scaled_normal[:len_norm_train]\n",
    "\n",
    "# generate test set consist of 50% attack and 50% normal\n",
    "X_test_norm = norm_samples[len_norm_train:]\n",
    "len_attack_test = len(X_test_norm) # we will use the same number\n",
    "X_test_attack = attack_samples[:len_attack_test]\n",
    "\n",
    "\n",
    "\n",
    "X_test_norm = df_scaled_normal[len_norm_train:]\n",
    "len_attack_test = len(X_test_norm) # we will use the same number\n",
    "X_test_attack = df_scaled_abnormal[:len_attack_test]\n",
    "# X_test = df_scaled_abnormal"
   ]
  },
  {
   "cell_type": "code",
   "execution_count": null,
   "metadata": {},
   "outputs": [],
   "source": [
    "X_test = np.concatenate([X_test_norm, X_test_attack])\n",
    "y_test = np.ones(len(X_test))\n",
    "y_test[:len(X_test_norm)] = 0"
   ]
  },
  {
   "cell_type": "code",
   "execution_count": 10,
   "metadata": {},
   "outputs": [],
   "source": [
    "def get_error_term(v1, v2, _rmse=True):\n",
    "    if _rmse:\n",
    "        return np.sqrt(np.mean((v1 - v2) ** 2, axis=1))\n",
    "    #return MAE\n",
    "    return np.mean(abs(v1 - v2), axis=1)"
   ]
  },
  {
   "cell_type": "code",
   "execution_count": 11,
   "metadata": {},
   "outputs": [],
   "source": [
    "def sample(args):\n",
    "    z_mean, z_log_var = args\n",
    "    batch = K.shape(z_mean)[0]\n",
    "    dim = K.int_shape(z_mean)[1]\n",
    "    epsilon = K.random_normal(shape=(batch, dim))\n",
    "    return z_mean + K.exp(0.5 * z_log_var) * epsilon"
   ]
  },
  {
   "cell_type": "code",
   "execution_count": 12,
   "metadata": {},
   "outputs": [],
   "source": [
    "original_dim = X_train.shape[1]\n",
    "input_shape = (original_dim,)\n",
    "intermediate_dim = int(original_dim / 2)\n",
    "latent_dim = 50"
   ]
  },
  {
   "cell_type": "code",
   "execution_count": 13,
   "metadata": {},
   "outputs": [
    {
     "name": "stdout",
     "output_type": "stream",
     "text": [
      "Model: \"encoder\"\n",
      "__________________________________________________________________________________________________\n",
      " Layer (type)                   Output Shape         Param #     Connected to                     \n",
      "==================================================================================================\n",
      " encoder_input (InputLayer)     [(None, 5001)]       0           []                               \n",
      "                                                                                                  \n",
      " dense (Dense)                  (None, 2500)         12505000    ['encoder_input[0][0]']          \n",
      "                                                                                                  \n",
      " z_mean (Dense)                 (None, 50)           125050      ['dense[0][0]']                  \n",
      "                                                                                                  \n",
      " z_log_var (Dense)              (None, 50)           125050      ['dense[0][0]']                  \n",
      "                                                                                                  \n",
      " z (Lambda)                     (None, 50)           0           ['z_mean[0][0]',                 \n",
      "                                                                  'z_log_var[0][0]']              \n",
      "                                                                                                  \n",
      "==================================================================================================\n",
      "Total params: 12,755,100\n",
      "Trainable params: 12,755,100\n",
      "Non-trainable params: 0\n",
      "__________________________________________________________________________________________________\n"
     ]
    }
   ],
   "source": [
    "# encoder model\n",
    "inputs = Input(shape=input_shape, name='encoder_input')\n",
    "x = Dense(intermediate_dim, activation='relu')(inputs)\n",
    "z_mean = Dense(latent_dim, name='z_mean')(x)\n",
    "z_log_var = Dense(latent_dim, name='z_log_var')(x)\n",
    "# use the reparameterization trick and get the output from the sample() function\n",
    "z = Lambda(sample, output_shape=(latent_dim,), name='z')([z_mean, z_log_var])\n",
    "encoder = Model(inputs, z, name='encoder')\n",
    "encoder.summary()"
   ]
  },
  {
   "cell_type": "code",
   "execution_count": 14,
   "metadata": {},
   "outputs": [
    {
     "name": "stdout",
     "output_type": "stream",
     "text": [
      "Model: \"decoder\"\n",
      "_________________________________________________________________\n",
      " Layer (type)                Output Shape              Param #   \n",
      "=================================================================\n",
      " z_sampling (InputLayer)     [(None, 50)]              0         \n",
      "                                                                 \n",
      " dense_1 (Dense)             (None, 2500)              127500    \n",
      "                                                                 \n",
      " dense_2 (Dense)             (None, 5001)              12507501  \n",
      "                                                                 \n",
      "=================================================================\n",
      "Total params: 12,635,001\n",
      "Trainable params: 12,635,001\n",
      "Non-trainable params: 0\n",
      "_________________________________________________________________\n"
     ]
    }
   ],
   "source": [
    "# decoder model\n",
    "latent_inputs = Input(shape=(latent_dim,), name='z_sampling')\n",
    "x = Dense(intermediate_dim, activation='relu')(latent_inputs)\n",
    "outputs = Dense(original_dim, activation='sigmoid')(x)\n",
    "# Instantiate the decoder model:\n",
    "decoder = Model(latent_inputs, outputs, name='decoder')\n",
    "decoder.summary()"
   ]
  },
  {
   "cell_type": "code",
   "execution_count": 15,
   "metadata": {},
   "outputs": [],
   "source": [
    "# full VAE model\n",
    "outputs = decoder(encoder(inputs))\n",
    "vae_model = Model(inputs, outputs, name='vae_mlp')"
   ]
  },
  {
   "cell_type": "code",
   "execution_count": 16,
   "metadata": {},
   "outputs": [],
   "source": [
    "# the KL loss function:\n",
    "def vae_loss(x, x_decoded_mean):\n",
    "    # compute the average MSE error, then scale it up, ie. simply sum on all axes\n",
    "    reconstruction_loss = K.sum(K.square(x - x_decoded_mean))\n",
    "    # compute the KL loss\n",
    "    kl_loss = - 0.5 * K.sum(1 + z_log_var - K.square(z_mean) - K.square(K.exp(z_log_var)), axis=-1)\n",
    "    # return the average loss over all \n",
    "    total_loss = K.mean(reconstruction_loss + kl_loss)    \n",
    "    #total_loss = reconstruction_loss + kl_loss\n",
    "    return total_loss"
   ]
  },
  {
   "cell_type": "code",
   "execution_count": 17,
   "metadata": {
    "tags": []
   },
   "outputs": [
    {
     "name": "stdout",
     "output_type": "stream",
     "text": [
      "Model: \"vae_mlp\"\n",
      "_________________________________________________________________\n",
      " Layer (type)                Output Shape              Param #   \n",
      "=================================================================\n",
      " encoder_input (InputLayer)  [(None, 5001)]            0         \n",
      "                                                                 \n",
      " encoder (Functional)        (None, 50)                12755100  \n",
      "                                                                 \n",
      " decoder (Functional)        (None, 5001)              12635001  \n",
      "                                                                 \n",
      "=================================================================\n",
      "Total params: 25,390,101\n",
      "Trainable params: 25,390,101\n",
      "Non-trainable params: 0\n",
      "_________________________________________________________________\n",
      "Train on 1709 samples\n",
      "Epoch 1/32\n"
     ]
    },
    {
     "name": "stderr",
     "output_type": "stream",
     "text": [
      "2021-12-03 03:42:22.419595: I tensorflow/stream_executor/cuda/cuda_gpu_executor.cc:939] successful NUMA node read from SysFS had negative value (-1), but there must be at least one NUMA node, so returning NUMA node zero\n",
      "2021-12-03 03:42:22.425689: W tensorflow/stream_executor/platform/default/dso_loader.cc:64] Could not load dynamic library 'libcusolver.so.11'; dlerror: libcusolver.so.11: cannot open shared object file: No such file or directory; LD_LIBRARY_PATH: /usr/local/cuda/lib64:/usr/local/nccl2/lib:/usr/local/cuda/extras/CUPTI/lib64\n",
      "2021-12-03 03:42:22.426430: W tensorflow/core/common_runtime/gpu/gpu_device.cc:1850] Cannot dlopen some GPU libraries. Please make sure the missing libraries mentioned above are installed properly if you would like to use GPU. Follow the guide at https://www.tensorflow.org/install/gpu for how to download and setup the required libraries for your platform.\n",
      "Skipping registering GPU devices...\n",
      "2021-12-03 03:42:22.427350: I tensorflow/core/platform/cpu_feature_guard.cc:151] This TensorFlow binary is optimized with oneAPI Deep Neural Network Library (oneDNN) to use the following CPU instructions in performance-critical operations:  AVX2 FMA\n",
      "To enable them in other operations, rebuild TensorFlow with the appropriate compiler flags.\n"
     ]
    },
    {
     "name": "stdout",
     "output_type": "stream",
     "text": [
      "1709/1709 [==============================] - 14s 8ms/sample - loss: 49351437464.4066\n",
      "Epoch 2/32\n",
      "1709/1709 [==============================] - 11s 7ms/sample - loss: 516.3876\n",
      "Epoch 3/32\n",
      "1709/1709 [==============================] - 11s 7ms/sample - loss: 162.2002\n",
      "Epoch 4/32\n",
      "1709/1709 [==============================] - 11s 7ms/sample - loss: 147.1602\n",
      "Epoch 5/32\n",
      "1709/1709 [==============================] - 11s 7ms/sample - loss: 138.8126\n",
      "Epoch 6/32\n",
      "1709/1709 [==============================] - 12s 7ms/sample - loss: 130.5856\n",
      "Epoch 7/32\n",
      "1709/1709 [==============================] - 12s 7ms/sample - loss: 133.2512\n",
      "Epoch 8/32\n",
      "1709/1709 [==============================] - 11s 7ms/sample - loss: 127.5974\n",
      "Epoch 9/32\n",
      "1709/1709 [==============================] - 11s 7ms/sample - loss: 125.5130\n",
      "Epoch 10/32\n",
      "1709/1709 [==============================] - 11s 7ms/sample - loss: 124.6695\n",
      "Epoch 11/32\n",
      "1709/1709 [==============================] - 11s 7ms/sample - loss: 128.5913\n",
      "Epoch 12/32\n",
      "1709/1709 [==============================] - 12s 7ms/sample - loss: 128.3850\n",
      "Epoch 13/32\n",
      "1709/1709 [==============================] - 11s 6ms/sample - loss: 133.4565\n",
      "Epoch 14/32\n",
      "1709/1709 [==============================] - 11s 7ms/sample - loss: 131.3757\n",
      "Epoch 15/32\n",
      "1709/1709 [==============================] - 11s 7ms/sample - loss: 124.1441\n",
      "Epoch 16/32\n",
      "1709/1709 [==============================] - 11s 6ms/sample - loss: 124.4616\n",
      "Epoch 17/32\n",
      "1709/1709 [==============================] - 11s 7ms/sample - loss: 123.6520\n",
      "Epoch 18/32\n",
      "1709/1709 [==============================] - 12s 7ms/sample - loss: 126.1281\n",
      "Epoch 19/32\n",
      "1709/1709 [==============================] - 11s 6ms/sample - loss: 133.1278\n",
      "Epoch 20/32\n",
      "1709/1709 [==============================] - 11s 7ms/sample - loss: 128.8726\n",
      "Epoch 21/32\n",
      "1709/1709 [==============================] - 11s 6ms/sample - loss: 140.3901\n",
      "Epoch 22/32\n",
      "1709/1709 [==============================] - 11s 6ms/sample - loss: 125.5198\n",
      "Epoch 23/32\n",
      "1709/1709 [==============================] - 12s 7ms/sample - loss: 121.0966\n",
      "Epoch 24/32\n",
      "1709/1709 [==============================] - 11s 7ms/sample - loss: 129.8046\n",
      "Epoch 25/32\n",
      "1709/1709 [==============================] - 11s 7ms/sample - loss: 124.2927\n",
      "Epoch 26/32\n",
      "1709/1709 [==============================] - 11s 7ms/sample - loss: 123.6231\n",
      "Epoch 27/32\n",
      "1709/1709 [==============================] - 11s 6ms/sample - loss: 124.8909\n",
      "Epoch 28/32\n",
      "1709/1709 [==============================] - 11s 7ms/sample - loss: 129.0525\n",
      "Epoch 29/32\n",
      "1709/1709 [==============================] - 11s 7ms/sample - loss: 124.2903\n",
      "Epoch 30/32\n",
      "1709/1709 [==============================] - 12s 7ms/sample - loss: 162.8763\n",
      "Epoch 31/32\n",
      "1709/1709 [==============================] - 11s 7ms/sample - loss: 146.0761\n",
      "Epoch 32/32\n",
      "1709/1709 [==============================] - 12s 7ms/sample - loss: 120.1824\n"
     ]
    }
   ],
   "source": [
    "opt = optimizers.Adam(learning_rate=0.0002, clipvalue=0.5)\n",
    "#opt = optimizers.RMSprop(learning_rate=0.0001)\n",
    "\n",
    "vae_model.compile(optimizer=opt, loss=vae_loss)\n",
    "vae_model.summary()\n",
    "# Finally, we train the model:\n",
    "results = vae_model.fit(X_train, X_train,\n",
    "                        shuffle=False,\n",
    "                        epochs=32,\n",
    "                        batch_size=50)"
   ]
  },
  {
   "cell_type": "code",
   "execution_count": null,
   "metadata": {},
   "outputs": [],
   "source": [
    "plt.plot(results.history['loss'])\n",
    "#plt.plot(results.history['val_loss'])\n",
    "plt.title('model loss')\n",
    "plt.ylabel('loss')\n",
    "plt.xlabel('epoch')\n",
    "plt.legend(['train', 'test'], loc='upper right');\n",
    "plt.show()"
   ]
  },
  {
   "cell_type": "code",
   "execution_count": 19,
   "metadata": {},
   "outputs": [
    {
     "name": "stderr",
     "output_type": "stream",
     "text": [
      "/opt/conda/lib/python3.7/site-packages/keras/engine/training_v1.py:2079: UserWarning: `Model.state_updates` will be removed in a future version. This property should not be used in TensorFlow 2.0, as `updates` are applied automatically.\n",
      "  updates=self.state_updates,\n"
     ]
    },
    {
     "data": {
      "text/plain": [
       "array([[0.9112257 , 0.03776976, 0.04774925, ..., 0.01401412, 0.01512238,\n",
       "        0.01134625],\n",
       "       [0.9852357 , 0.01743361, 0.01820073, ..., 0.00564691, 0.00463733,\n",
       "        0.00541249],\n",
       "       [0.97341156, 0.03731933, 0.03903744, ..., 0.01417279, 0.01364622,\n",
       "        0.01743829],\n",
       "       ...,\n",
       "       [0.6895642 , 0.03394476, 0.06320986, ..., 0.00960958, 0.01114959,\n",
       "        0.00792131],\n",
       "       [0.85242563, 0.01460278, 0.02857205, ..., 0.00354388, 0.00383729,\n",
       "        0.0032953 ],\n",
       "       [0.85856843, 0.04475003, 0.06251889, ..., 0.01652795, 0.01493287,\n",
       "        0.01683488]], dtype=float32)"
      ]
     },
     "execution_count": 19,
     "metadata": {},
     "output_type": "execute_result"
    }
   ],
   "source": [
    "X_train_pred = vae_model.predict(X_train)\n",
    "X_train_pred"
   ]
  },
  {
   "cell_type": "code",
   "execution_count": null,
   "metadata": {},
   "outputs": [],
   "source": [
    "mae_vector = get_error_term(X_train_pred, X_train, _rmse=False)\n",
    "print(f'Avg error {np.mean(mae_vector)}\\nmedian error {np.median(mae_vector)}\\n99Q: {np.quantile(mae_vector, 0.99)}')\n",
    "print(f'setting threshold on { np.quantile(mae_vector, 0.99)} ')\n",
    "\n",
    "error_thresh = np.quantile(mae_vector, 0.99)"
   ]
  },
  {
   "cell_type": "code",
   "execution_count": 22,
   "metadata": {},
   "outputs": [
    {
     "data": {
      "text/plain": [
       "array([[8.74263167e-01, 4.94357944e-03, 9.20611620e-03, ...,\n",
       "        6.01291656e-04, 8.51303339e-04, 4.08500433e-04],\n",
       "       [8.27100873e-01, 1.54776573e-02, 3.04918289e-02, ...,\n",
       "        4.59456444e-03, 5.28264046e-03, 3.52647901e-03],\n",
       "       [5.99551797e-01, 3.19603384e-02, 5.10240197e-02, ...,\n",
       "        5.26791811e-03, 8.64681602e-03, 7.34919310e-03],\n",
       "       ...,\n",
       "       [3.54062736e-01, 9.50121880e-02, 1.24347627e-01, ...,\n",
       "        4.24041450e-02, 4.28051949e-02, 3.70397866e-02],\n",
       "       [7.77161598e-01, 5.81178367e-02, 7.41798580e-02, ...,\n",
       "        1.48987174e-02, 1.89921856e-02, 1.47616565e-02],\n",
       "       [2.50410438e-01, 1.69551164e-01, 2.02684671e-01, ...,\n",
       "        9.80975926e-02, 9.44257975e-02, 1.16768479e-01]], dtype=float32)"
      ]
     },
     "execution_count": 22,
     "metadata": {},
     "output_type": "execute_result"
    }
   ],
   "source": [
    "X_pred = vae_model.predict(X_test)\n",
    "X_pred"
   ]
  },
  {
   "cell_type": "code",
   "execution_count": 82,
   "metadata": {},
   "outputs": [],
   "source": [
    "normal = np.max(X_pred[:,:len(X_test_norm)], axis =1)\n",
    "abnormal = np.max(X_pred[:,len(X_test_norm):], axis = 1)\n",
    "pd.DataFrame(normal).to_csv(\"normal.csv\")\n",
    "pd.DataFrame(abnormal).to_csv(\"abnormal.csv\")"
   ]
  },
  {
   "cell_type": "code",
   "execution_count": 11,
   "metadata": {},
   "outputs": [
    {
     "data": {
      "text/plain": [
       "0      0.000000\n",
       "1      0.874263\n",
       "2      0.827101\n",
       "3      0.599552\n",
       "4      0.542552\n",
       "         ...   \n",
       "852    0.706474\n",
       "853    0.892902\n",
       "854    0.510111\n",
       "855    0.777162\n",
       "856    0.629440\n",
       "Name: 1, Length: 857, dtype: float64"
      ]
     },
     "execution_count": 11,
     "metadata": {},
     "output_type": "execute_result"
    }
   ],
   "source": [
    "normal = pd.read_csv('normal.csv', sep=',', header = None)\n",
    "abnormal = pd.read_csv('abnormal.csv', sep=',', header = None)"
   ]
  },
  {
   "cell_type": "code",
   "execution_count": null,
   "metadata": {},
   "outputs": [],
   "source": [
    "normal_r = np.where(normal[1] > 0.45, 1, 0)\n",
    "normal_r"
   ]
  },
  {
   "cell_type": "code",
   "execution_count": null,
   "metadata": {},
   "outputs": [],
   "source": [
    "abnormal_r = np.where(abnormal[1] > 0.45, 1, 0)\n",
    "abnormal_r"
   ]
  },
  {
   "cell_type": "code",
   "execution_count": 35,
   "metadata": {},
   "outputs": [],
   "source": [
    "x_result = np.concatenate([normal_r, abnormal_r], axis = 0)"
   ]
  },
  {
   "cell_type": "code",
   "execution_count": 39,
   "metadata": {},
   "outputs": [
    {
     "data": {
      "text/plain": [
       "(1714,)"
      ]
     },
     "execution_count": 39,
     "metadata": {},
     "output_type": "execute_result"
    }
   ],
   "source": [
    "y_test = np.zeros(len(normal) + len(abnormal))\n",
    "y_test[:len(normal)] = 1\n",
    "y_test.shape"
   ]
  },
  {
   "cell_type": "code",
   "execution_count": 40,
   "metadata": {},
   "outputs": [
    {
     "data": {
      "text/plain": [
       "array([[1.        , 0.        ],\n",
       "       [0.00116686, 0.99883314]])"
      ]
     },
     "execution_count": 40,
     "metadata": {},
     "output_type": "execute_result"
    }
   ],
   "source": [
    "from sklearn.metrics import confusion_matrix\n",
    "from sklearn.preprocessing import normalize\n",
    "cm = confusion_matrix(y_test, x_result, normalize = 'true')\n",
    "cm"
   ]
  },
  {
   "cell_type": "code",
   "execution_count": 42,
   "metadata": {},
   "outputs": [
    {
     "data": {
      "image/png": "[encoded data removed]",
      "text/plain": [
       "<Figure size 432x288 with 2 Axes>"
      ]
     },
     "metadata": {
      "needs_background": "light"
     },
     "output_type": "display_data"
    }
   ],
   "source": [
    "normalize = True\n",
    "cmap = 'RdPu'\n",
    "classes = [0, 1]\n",
    "title = 'Cofusion Matrix'\n",
    "fig, ax = plt.subplots()\n",
    "im = ax.imshow(cm, interpolation='nearest', cmap=cmap)\n",
    "ax.figure.colorbar(im, ax = ax)\n",
    "ax.set(xticks = np.arange(cm.shape[1]), yticks = np.arange(cm.shape[0]), xticklabels = classes, yticklabels = classes, ylabel = 'True label', xlabel = 'Predicted label', title = title)\n",
    "plt.setp(ax.get_xticklabels(), rotation=45, ha = 'right', rotation_mode = 'anchor')\n",
    "fmt = '.4%' if normalize else 'd'\n",
    "thresh = cm.max() / 2\n",
    "for i in range(cm.shape[0]):\n",
    "    for j in range(cm.shape[1]):\n",
    "        ax.text(j, i, format(cm[i, j], fmt), ha = 'center', va = 'center', color = 'white' if cm[i,j] > thresh else 'black')\n",
    "        fig.tight_layout()\n"
   ]
  },
  {
   "cell_type": "code",
   "execution_count": 84,
   "metadata": {},
   "outputs": [
    {
     "data": {
      "text/plain": [
       "(array([0., 1., 2., 3., 4., 5., 6.]),\n",
       " [Text(0, 0, ''),\n",
       "  Text(0, 0, ''),\n",
       "  Text(0, 0, ''),\n",
       "  Text(0, 0, ''),\n",
       "  Text(0, 0, ''),\n",
       "  Text(0, 0, ''),\n",
       "  Text(0, 0, '')])"
      ]
     },
     "execution_count": 84,
     "metadata": {},
     "output_type": "execute_result"
    },
    {
     "data": {
      "image/png": "[encoded data removed]",
      "text/plain": [
       "<Figure size 432x288 with 1 Axes>"
      ]
     },
     "metadata": {
      "needs_background": "light"
     },
     "output_type": "display_data"
    }
   ],
   "source": [
    "import math\n",
    "# fig = plt.figure()\n",
    "# plt.hist([np.sum(X_train_pred, axis =1),np.sum(X_pred, axis = 1)], density=True, label=['normal','abnormal'])\n",
    "plt.hist([normal,abnormal], density=True, label=['normal','abnormal'])\n",
    "# plt.hist([np.min(X_train_pred, axis =1),np.min(X_pred, axis = 1)], density=True, label=['normal','abnormal'])\n",
    "x_min = math.floor(np.min(np.max(X_pred[:,:len(X_test_norm)], axis =1)))\n",
    "x_max = math.floor(np.max(np.max(X_pred[:,len(X_test_norm):], axis = 1)))\n",
    "x_plot = np.linspace(math.floor(x_min), math.floor(x_max), num=(x_max-x_min)*10+1)\n",
    "\n",
    "plt.legend(fontsize='xx-large', loc='upper left')\n",
    "#plt.ylabel('Density', rotation='horizontal', ha='right', va='center', fontsize='large')\n",
    "plt.ylabel('Density', fontsize='x-large')\n",
    "plt.xlabel('Confidence', fontsize='x-large')\n",
    "plt.xticks(ticks=np.around(x_plot, decimals=2), labels=np.around(x_plot, decimals=2), fontsize='large', rotation=60)\n",
    "plt.yticks(fontsize='large')\n",
    "# fig.savefig('output.png')"
   ]
  }
 ],
 "metadata": {
  "environment": {
   "kernel": "python3",
   "name": "pytorch-gpu.1-9.m82",
   "type": "gcloud",
   "uri": "gcr.io/deeplearning-platform-release/pytorch-gpu.1-9:m82"
  },
  "kernelspec": {
   "display_name": "Python 3",
   "language": "python",
   "name": "python3"
  },
  "language_info": {
   "codemirror_mode": {
    "name": "ipython",
    "version": 3
   },
   "file_extension": ".py",
   "mimetype": "text/x-python",
   "name": "python",
   "nbconvert_exporter": "python",
   "pygments_lexer": "ipython3",
   "version": "3.7.3"
  }
 },
 "nbformat": 4,
 "nbformat_minor": 5
}
